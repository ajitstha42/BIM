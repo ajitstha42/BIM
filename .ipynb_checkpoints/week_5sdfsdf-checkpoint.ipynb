{
 "cells": [
  {
   "cell_type": "code",
   "execution_count": 48,
   "metadata": {
    "id": "Eu9yd0nZL4gz"
   },
   "outputs": [],
   "source": [
    "import random\n",
    "import re\n",
    "import os\n",
    "import math\n",
    "import nltk\n",
    "from nltk.corpus import stopwords\n",
    "from nltk.tokenize import word_tokenize\n",
    "from nltk.stem import WordNetLemmatizer\n",
    "from collections import defaultdict"
   ]
  },
  {
   "cell_type": "code",
   "execution_count": 49,
   "metadata": {
    "scrolled": true
   },
   "outputs": [
    {
     "name": "stderr",
     "output_type": "stream",
     "text": [
      "[nltk_data] Downloading package stopwords to\n",
      "[nltk_data]     C:\\Users\\PBS\\AppData\\Roaming\\nltk_data...\n",
      "[nltk_data]   Package stopwords is already up-to-date!\n",
      "[nltk_data] Downloading package punkt to\n",
      "[nltk_data]     C:\\Users\\PBS\\AppData\\Roaming\\nltk_data...\n",
      "[nltk_data]   Package punkt is already up-to-date!\n",
      "[nltk_data] Downloading package wordnet to\n",
      "[nltk_data]     C:\\Users\\PBS\\AppData\\Roaming\\nltk_data...\n",
      "[nltk_data]   Package wordnet is already up-to-date!\n"
     ]
    },
    {
     "data": {
      "text/plain": [
       "True"
      ]
     },
     "execution_count": 49,
     "metadata": {},
     "output_type": "execute_result"
    }
   ],
   "source": [
    "nltk.download('stopwords')\n",
    "nltk.download('punkt')\n",
    "nltk.download('wordnet')"
   ]
  },
  {
   "cell_type": "code",
   "execution_count": 50,
   "metadata": {},
   "outputs": [],
   "source": [
    "STOPWORDS = stopwords.words('english')\n",
    "LEMMATIZER = WordNetLemmatizer()"
   ]
  },
  {
   "cell_type": "code",
   "execution_count": 51,
   "metadata": {
    "id": "9Y4Qf62jkOPL"
   },
   "outputs": [],
   "source": [
    "def clean_text(text):\n",
    "    text = text.lower()\n",
    "    text = re.sub(r\"[^a-zA-Z0-9\\s]\", \"\", text)\n",
    "    text = re.sub(r\"\\d+\", \"\", text)\n",
    "    tokens = word_tokenize(text)\n",
    "    cleaned_tokens = [LEMMATIZER.lemmatize(word) for word in tokens if word not in STOPWORDS]\n",
    "    return cleaned_tokens"
   ]
  },
  {
   "cell_type": "code",
   "execution_count": 52,
   "metadata": {
    "id": "l8XLPquZMSCM"
   },
   "outputs": [],
   "source": [
    "def load_text_files(documents_path):\n",
    "    documents = {}\n",
    "    for filename in os.listdir(documents_path):\n",
    "        if filename.endswith(\".txt\"):\n",
    "            with open(os.path.join(documents_path, filename), 'r', encoding='utf-8') as file:\n",
    "                documents[filename] = clean_text(file.read())\n",
    "    return documents"
   ]
  },
  {
   "cell_type": "code",
   "execution_count": 53,
   "metadata": {
    "id": "fuCyLezTjlnK"
   },
   "outputs": [],
   "source": [
    "def load_query(query_path):\n",
    "    with open(query_path,'r') as file:\n",
    "        return [line.strip() for line in file.readlines()]"
   ]
  },
  {
   "cell_type": "code",
   "execution_count": 54,
   "metadata": {
    "id": "678U9IOIMTt6"
   },
   "outputs": [],
   "source": [
    "def compute_statistics(docs):\n",
    "    doc_count = len(docs)\n",
    "    term_doc_freq = defaultdict(int)\n",
    "    term_freq = defaultdict(lambda: defaultdict(int))\n",
    "\n",
    "    for doc_id, words in docs.items():\n",
    "        print(doc_id)\n",
    "        word_set = set(words)\n",
    "        for word in words:\n",
    "            term_freq[doc_id][word] += 1\n",
    "        for word in word_set:\n",
    "            term_doc_freq[word] += 1\n",
    "\n",
    "    return term_freq, term_doc_freq, doc_count"
   ]
  },
  {
   "cell_type": "code",
   "execution_count": 55,
   "metadata": {
    "id": "UZwu3_LaMdO2"
   },
   "outputs": [],
   "source": [
    "def compute_relevance_prob(query, term_freq, term_doc_freq, doc_count):\n",
    "    scores = {}\n",
    "    for doc_id in term_freq:\n",
    "        score = 1.0\n",
    "        for term in query:\n",
    "            tf = term_freq[doc_id].get(term, 0)\n",
    "            df = term_doc_freq.get(term, 0)\n",
    "            p_term_given_relevant = (tf + 1) / (sum(term_freq[doc_id].values()) + len(term_doc_freq))\n",
    "            p_term_given_not_relevant = (df + 1) / (doc_count - df + len(term_doc_freq))\n",
    "            score *= (p_term_given_relevant / p_term_given_not_relevant)\n",
    "        scores[doc_id] = score\n",
    "    return scores"
   ]
  },
  {
   "cell_type": "code",
   "execution_count": 56,
   "metadata": {
    "id": "8Qr93mRHMexm"
   },
   "outputs": [],
   "source": [
    "def retrieve_documents(path, query_path):\n",
    "    docs = load_text_files(path)\n",
    "    queries = load_query(query_path)\n",
    "\n",
    "    term_freq, term_doc_freq, doc_count = compute_statistics(docs)\n",
    "\n",
    "    for query in queries:\n",
    "        query_terms = clean_text(query)\n",
    "        scores = compute_relevance_prob(query_terms, term_freq, term_doc_freq, doc_count)\n",
    "        ranked_docs = sorted(scores.items(), key=lambda item: item[1], reverse=True)\n",
    "        print(f\"Query: {query}\")\n",
    "        for filename, score in ranked_docs:\n",
    "            print(f\"Document: {filename}, Score: {score:.4f}\")\n",
    "        print()"
   ]
  },
  {
   "cell_type": "code",
   "execution_count": 57,
   "metadata": {
    "colab": {
     "base_uri": "https://localhost:8080/"
    },
    "id": "r3GGRViGMi5_",
    "outputId": "37f3de03-dbdc-45da-ea5c-0200dff18243"
   },
   "outputs": [
    {
     "name": "stdout",
     "output_type": "stream",
     "text": [
      "10 undecided voters explain why they haven’t picked a side in this election.txt\n",
      "2024 US election Kamala Harris_s transformation.txt\n",
      "Arm the public with facts Microsoft billionaire fights US election disinformation.txt\n",
      "Election 2024 Latest Trump and Harris campaign for undecided voters with just 6 weeks left.txt\n",
      "Fears mount that election deniers could disrupt vote count in US swing.txt\n",
      "Harris Had Stronger Debate, Polls Find, but the Race Remains Deadlocked.txt\n",
      "Harris to condemn Trump in Georgia after news of abortion-related deaths.txt\n",
      "Mounting North Korean threats await next US president.txt\n",
      "Oprah, Swift and Clooney do celebrity endorsements matter in the US election.txt\n",
      "Poll shows US voters think Harris, Trump on equal footing on economy, crime, Gaza war.txt\n",
      "Pope Francis tells US Catholics to choose ‘lesser evil’ in coming election.txt\n",
      "Presidential campaigns hit battleground states in very close races.txt\n",
      "So it begins 2024 presidential election underway as early voting opens in states.txt\n",
      "State of the Union Germany_s border politics and US election campaign fever.txt\n",
      "The Harris–Trump debate showed US foreign policy matters in this election.txt\n",
      "Trump and Harris vocabularies signal their different frames of mind.txt\n",
      "Trump-Harris debate sums up policy-light US election.txt\n",
      "US election latest.txt\n",
      "US election polls Who is ahead - Harris or Trump.txt\n",
      "US presidential polls Elon Musk endorses Trump, his workers back Harris.txt\n",
      "Query: US politics\n",
      "Document: Oprah, Swift and Clooney do celebrity endorsements matter in the US election.txt, Score: 0.3000\n",
      "Document: State of the Union Germany_s border politics and US election campaign fever.txt, Score: 0.2003\n",
      "Document: The Harris–Trump debate showed US foreign policy matters in this election.txt, Score: 0.1177\n",
      "Document: US presidential polls Elon Musk endorses Trump, his workers back Harris.txt, Score: 0.1001\n",
      "Document: Pope Francis tells US Catholics to choose ‘lesser evil’ in coming election.txt, Score: 0.0967\n",
      "Document: US election polls Who is ahead - Harris or Trump.txt, Score: 0.0894\n",
      "Document: Fears mount that election deniers could disrupt vote count in US swing.txt, Score: 0.0813\n",
      "Document: 10 undecided voters explain why they haven’t picked a side in this election.txt, Score: 0.0723\n",
      "Document: Trump-Harris debate sums up policy-light US election.txt, Score: 0.0697\n",
      "Document: Arm the public with facts Microsoft billionaire fights US election disinformation.txt, Score: 0.0683\n",
      "Document: Election 2024 Latest Trump and Harris campaign for undecided voters with just 6 weeks left.txt, Score: 0.0598\n",
      "Document: 2024 US election Kamala Harris_s transformation.txt, Score: 0.0500\n",
      "Document: US election latest.txt, Score: 0.0492\n",
      "Document: Trump and Harris vocabularies signal their different frames of mind.txt, Score: 0.0474\n",
      "Document: Poll shows US voters think Harris, Trump on equal footing on economy, crime, Gaza war.txt, Score: 0.0457\n",
      "Document: Mounting North Korean threats await next US president.txt, Score: 0.0352\n",
      "Document: Harris to condemn Trump in Georgia after news of abortion-related deaths.txt, Score: 0.0292\n",
      "Document: Harris Had Stronger Debate, Polls Find, but the Race Remains Deadlocked.txt, Score: 0.0155\n",
      "Document: So it begins 2024 presidential election underway as early voting opens in states.txt, Score: 0.0147\n",
      "Document: Presidential campaigns hit battleground states in very close races.txt, Score: 0.0027\n",
      "\n",
      "Query: Trump Harris\n",
      "Document: US election latest.txt, Score: 4.4291\n",
      "Document: 10 undecided voters explain why they haven’t picked a side in this election.txt, Score: 3.3758\n",
      "Document: Harris Had Stronger Debate, Polls Find, but the Race Remains Deadlocked.txt, Score: 2.7859\n",
      "Document: US election polls Who is ahead - Harris or Trump.txt, Score: 1.0395\n",
      "Document: The Harris–Trump debate showed US foreign policy matters in this election.txt, Score: 0.8670\n",
      "Document: US presidential polls Elon Musk endorses Trump, his workers back Harris.txt, Score: 0.7875\n",
      "Document: Trump-Harris debate sums up policy-light US election.txt, Score: 0.7495\n",
      "Document: Election 2024 Latest Trump and Harris campaign for undecided voters with just 6 weeks left.txt, Score: 0.5620\n",
      "Document: Oprah, Swift and Clooney do celebrity endorsements matter in the US election.txt, Score: 0.5427\n",
      "Document: Trump and Harris vocabularies signal their different frames of mind.txt, Score: 0.4092\n",
      "Document: Poll shows US voters think Harris, Trump on equal footing on economy, crime, Gaza war.txt, Score: 0.3201\n",
      "Document: 2024 US election Kamala Harris_s transformation.txt, Score: 0.2254\n",
      "Document: Fears mount that election deniers could disrupt vote count in US swing.txt, Score: 0.2182\n",
      "Document: Harris to condemn Trump in Georgia after news of abortion-related deaths.txt, Score: 0.1769\n",
      "Document: Mounting North Korean threats await next US president.txt, Score: 0.0853\n",
      "Document: So it begins 2024 presidential election underway as early voting opens in states.txt, Score: 0.0713\n",
      "Document: State of the Union Germany_s border politics and US election campaign fever.txt, Score: 0.0499\n",
      "Document: Presidential campaigns hit battleground states in very close races.txt, Score: 0.0430\n",
      "Document: Pope Francis tells US Catholics to choose ‘lesser evil’ in coming election.txt, Score: 0.0170\n",
      "Document: Arm the public with facts Microsoft billionaire fights US election disinformation.txt, Score: 0.0037\n",
      "\n",
      "Query: Policies\n",
      "Document: The Harris–Trump debate showed US foreign policy matters in this election.txt, Score: 0.8452\n",
      "Document: Trump-Harris debate sums up policy-light US election.txt, Score: 0.4208\n",
      "Document: State of the Union Germany_s border politics and US election campaign fever.txt, Score: 0.3187\n",
      "Document: Pope Francis tells US Catholics to choose ‘lesser evil’ in coming election.txt, Score: 0.3115\n",
      "Document: Poll shows US voters think Harris, Trump on equal footing on economy, crime, Gaza war.txt, Score: 0.2590\n",
      "Document: US presidential polls Elon Musk endorses Trump, his workers back Harris.txt, Score: 0.2507\n",
      "Document: Harris to condemn Trump in Georgia after news of abortion-related deaths.txt, Score: 0.2391\n",
      "Document: Arm the public with facts Microsoft billionaire fights US election disinformation.txt, Score: 0.2315\n",
      "Document: Mounting North Korean threats await next US president.txt, Score: 0.2275\n",
      "Document: Fears mount that election deniers could disrupt vote count in US swing.txt, Score: 0.2245\n",
      "Document: US election latest.txt, Score: 0.2216\n",
      "Document: Oprah, Swift and Clooney do celebrity endorsements matter in the US election.txt, Score: 0.2215\n",
      "Document: 2024 US election Kamala Harris_s transformation.txt, Score: 0.1421\n",
      "Document: Trump and Harris vocabularies signal their different frames of mind.txt, Score: 0.1383\n",
      "Document: 10 undecided voters explain why they haven’t picked a side in this election.txt, Score: 0.1167\n",
      "Document: US election polls Who is ahead - Harris or Trump.txt, Score: 0.0917\n",
      "Document: Election 2024 Latest Trump and Harris campaign for undecided voters with just 6 weeks left.txt, Score: 0.0897\n",
      "Document: Harris Had Stronger Debate, Polls Find, but the Race Remains Deadlocked.txt, Score: 0.0806\n",
      "Document: Presidential campaigns hit battleground states in very close races.txt, Score: 0.0500\n",
      "Document: So it begins 2024 presidential election underway as early voting opens in states.txt, Score: 0.0480\n",
      "\n",
      "Query: Presidential Election\n",
      "Document: Fears mount that election deniers could disrupt vote count in US swing.txt, Score: 0.9894\n",
      "Document: Oprah, Swift and Clooney do celebrity endorsements matter in the US election.txt, Score: 0.4590\n",
      "Document: 10 undecided voters explain why they haven’t picked a side in this election.txt, Score: 0.2427\n",
      "Document: US election latest.txt, Score: 0.2086\n",
      "Document: US presidential polls Elon Musk endorses Trump, his workers back Harris.txt, Score: 0.1800\n",
      "Document: Harris Had Stronger Debate, Polls Find, but the Race Remains Deadlocked.txt, Score: 0.1460\n",
      "Document: Arm the public with facts Microsoft billionaire fights US election disinformation.txt, Score: 0.1263\n",
      "Document: The Harris–Trump debate showed US foreign policy matters in this election.txt, Score: 0.1166\n",
      "Document: Presidential campaigns hit battleground states in very close races.txt, Score: 0.1106\n",
      "Document: Election 2024 Latest Trump and Harris campaign for undecided voters with just 6 weeks left.txt, Score: 0.1070\n",
      "Document: Poll shows US voters think Harris, Trump on equal footing on economy, crime, Gaza war.txt, Score: 0.0975\n",
      "Document: Pope Francis tells US Catholics to choose ‘lesser evil’ in coming election.txt, Score: 0.0891\n",
      "Document: State of the Union Germany_s border politics and US election campaign fever.txt, Score: 0.0475\n",
      "Document: 2024 US election Kamala Harris_s transformation.txt, Score: 0.0440\n",
      "Document: Trump and Harris vocabularies signal their different frames of mind.txt, Score: 0.0417\n",
      "Document: US election polls Who is ahead - Harris or Trump.txt, Score: 0.0379\n",
      "Document: Trump-Harris debate sums up policy-light US election.txt, Score: 0.0358\n",
      "Document: Harris to condemn Trump in Georgia after news of abortion-related deaths.txt, Score: 0.0299\n",
      "Document: So it begins 2024 presidential election underway as early voting opens in states.txt, Score: 0.0283\n",
      "Document: Mounting North Korean threats await next US president.txt, Score: 0.0102\n",
      "\n",
      "Relevance scores saved to ajit_score.txt\n"
     ]
    }
   ],
   "source": [
    "def main():\n",
    "    folder_path = './documents/'\n",
    "    query_path = 'queries.txt'\n",
    "    retrieve_documents(folder_path, query_path)\n",
    "\n",
    "    def assign_random_relevance(queries, documents, relevance_scale=(0, 1)):\n",
    "      relevance_scores = {}\n",
    "\n",
    "      for query in queries:\n",
    "          relevance_scores[query] = {}\n",
    "          for doc in documents:\n",
    "              relevance_scores[query][doc] = random.randint(relevance_scale[0], relevance_scale[1])\n",
    "\n",
    "      return relevance_scores\n",
    "\n",
    "    def save_relevance_scores_to_file(relevance_scores, output_file):\n",
    "      with open(output_file, 'w') as f:\n",
    "          for query, doc_scores in relevance_scores.items():\n",
    "              f.write(f\"{query}\\n\")\n",
    "              for doc, score in doc_scores.items():\n",
    "                  f.write(f\"{doc}:{score}\\n\")\n",
    "              f.write(\"\\n\")\n",
    "\n",
    "\n",
    "    documents = load_text_files(folder_path)\n",
    "    queries = load_query(query_path)\n",
    "\n",
    "    random_relevance_scores = assign_random_relevance(queries, documents.keys())\n",
    "\n",
    "\n",
    "    output_file = 'ajit_score.txt'\n",
    "    save_relevance_scores_to_file(random_relevance_scores, output_file)\n",
    "\n",
    "    print(f\"Relevance scores saved to {output_file}\")\n",
    "\n",
    "if __name__ == \"__main__\":\n",
    "    main()"
   ]
  },
  {
   "cell_type": "code",
   "execution_count": null,
   "metadata": {
    "id": "fZTyPjK_NKZf"
   },
   "outputs": [],
   "source": []
  }
 ],
 "metadata": {
  "colab": {
   "provenance": []
  },
  "kernelspec": {
   "display_name": "Python 3 (ipykernel)",
   "language": "python",
   "name": "python3"
  },
  "language_info": {
   "codemirror_mode": {
    "name": "ipython",
    "version": 3
   },
   "file_extension": ".py",
   "mimetype": "text/x-python",
   "name": "python",
   "nbconvert_exporter": "python",
   "pygments_lexer": "ipython3",
   "version": "3.12.4"
  }
 },
 "nbformat": 4,
 "nbformat_minor": 4
}
